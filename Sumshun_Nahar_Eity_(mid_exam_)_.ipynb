{
  "nbformat": 4,
  "nbformat_minor": 0,
  "metadata": {
    "colab": {
      "provenance": [],
      "authorship_tag": "ABX9TyO1JNucTe/6Enwd3GQ9Z+n7",
      "include_colab_link": true
    },
    "kernelspec": {
      "name": "python3",
      "display_name": "Python 3"
    },
    "language_info": {
      "name": "python"
    }
  },
  "cells": [
    {
      "cell_type": "markdown",
      "metadata": {
        "id": "view-in-github",
        "colab_type": "text"
      },
      "source": [
        "<a href=\"https://colab.research.google.com/github/sumshun-nahar-eity/Phitron_Artificial_Intelligence_ML_Course/blob/main/Sumshun_Nahar_Eity_(mid_exam_)_.ipynb\" target=\"_parent\"><img src=\"https://colab.research.google.com/assets/colab-badge.svg\" alt=\"Open In Colab\"/></a>"
      ]
    },
    {
      "cell_type": "markdown",
      "source": [
        "## Email : esumshun@gmail.com"
      ],
      "metadata": {
        "id": "PDQHaALKMjv4"
      }
    },
    {
      "cell_type": "code",
      "source": [
        "import numpy as np\n",
        "import pandas as pd\n",
        "\n",
        "np.random.seed(42)\n",
        "\n",
        "ids = np.arange(1, 11)\n",
        "ages = np.random.randint(18, 60, 10)\n",
        "salaries = np.random.randint(30000, 90000, 10)\n",
        "departments = np.array([\"HR\", \"IT\", \"Finance\", \"IT\", \"HR\", \"Sales\", \"Finance\", \"IT\", \"Sales\", \"HR\"])\n",
        "\n",
        "DF = pd.DataFrame({\n",
        "\"id\": ids,\n",
        "\"age\": ages,\n",
        "\"salary\": salaries,\n",
        "\"dept\": departments\n",
        "})\n",
        "\n",
        "DF.to_csv(\"employees.csv\", index=False)\n",
        "print(\"Sample Data Created and Saved as employees.csv\")\n"
      ],
      "metadata": {
        "colab": {
          "base_uri": "https://localhost:8080/"
        },
        "id": "J5ZhiFZpMtyo",
        "outputId": "2eaf8558-0693-4827-ec55-64bd2911342d"
      },
      "execution_count": null,
      "outputs": [
        {
          "output_type": "stream",
          "name": "stdout",
          "text": [
            "Sample Data Created and Saved as employees.csv\n"
          ]
        }
      ]
    },
    {
      "cell_type": "markdown",
      "source": [
        "# **1) NumPy — 5 Questions**"
      ],
      "metadata": {
        "id": "PZ9yqZZsTulo"
      }
    },
    {
      "cell_type": "markdown",
      "source": [
        "Q1. Create NumPy arrays from the ages and salaries data generated above. Print both arrays and display their dtype, ndim, shape, and size.\n",
        "## Answer q1 :"
      ],
      "metadata": {
        "id": "Ft73HKhiNl_X"
      }
    },
    {
      "cell_type": "code",
      "source": [
        "age_array = np.array(ages)\n",
        "salary_array = np.array(salaries)\n",
        "\n",
        "print(\"Ages:\", age_array)\n",
        "print(\"Age dtype:\", age_array.dtype)\n",
        "print(\"Age ndim:\", age_array.ndim)\n",
        "print(\"Age shape:\", age_array.shape)\n",
        "print(\"Age size:\", age_array.size)\n",
        "\n",
        "print(\".................................\")\n",
        "\n",
        "print(\"Salaries:\", salary_array)\n",
        "print(\"Salary dtype:\", salary_array.dtype)\n",
        "print(\"Salary ndim:\", salary_array.ndim)\n",
        "print(\"Salary shape:\", salary_array.shape)\n",
        "print(\"Salary size:\", salary_array.size)"
      ],
      "metadata": {
        "colab": {
          "base_uri": "https://localhost:8080/"
        },
        "id": "xNEJwSXEN3iP",
        "outputId": "3efdf534-6064-438f-fa80-39b8d436bd9d"
      },
      "execution_count": null,
      "outputs": [
        {
          "output_type": "stream",
          "name": "stdout",
          "text": [
            "Ages: [56 46 32 25 38 56 36 40 28 28]\n",
            "Age dtype: int64\n",
            "Age ndim: 1\n",
            "Age shape: (10,)\n",
            "Age size: 10\n",
            ".................................\n",
            "Salaries: [77191 74131 46023 71090 31685 30769 89735 86101 32433 35311]\n",
            "Salary dtype: int64\n",
            "Salary ndim: 1\n",
            "Salary shape: (10,)\n",
            "Salary size: 10\n"
          ]
        }
      ]
    },
    {
      "cell_type": "markdown",
      "source": [
        "Q2. Using the salaries array, find and print the highest and lowest salary values. Also, calculate and print the average salary and age using NumPy functions.\n",
        "## Answer q2 :"
      ],
      "metadata": {
        "id": "aTTXPsorQ4Nu"
      }
    },
    {
      "cell_type": "code",
      "source": [
        "highest_salary = np.max(salary_array)\n",
        "print(\"Highest Salary :\", highest_salary)\n",
        "\n",
        "lowest_salary = np.min(salary_array)\n",
        "print(\"Lowest Salary :\", lowest_salary)\n",
        "\n",
        "average_salary = np.mean(salary_array)\n",
        "print(\"Average Salary :\", average_salary)\n",
        "\n",
        "average_age = np.mean(age_array)\n",
        "print(\"Average Age :\", average_age)\n",
        "\n",
        "\n"
      ],
      "metadata": {
        "id": "WtsPOy2-RFV-",
        "colab": {
          "base_uri": "https://localhost:8080/"
        },
        "outputId": "4afd861d-cb19-444f-bb7b-2b2735e5d0af"
      },
      "execution_count": null,
      "outputs": [
        {
          "output_type": "stream",
          "name": "stdout",
          "text": [
            "Highest Salary : 89735\n",
            "Lowest Salary : 30769\n",
            "Average Salary : 57446.9\n",
            "Average Age : 38.5\n"
          ]
        }
      ]
    },
    {
      "cell_type": "markdown",
      "source": [
        "Q3. From the ages array, filter and print all ages greater than 30 using a boolean condition. Then count and print how many employees are older than 30.\n",
        "## Answer q3 :"
      ],
      "metadata": {
        "id": "qIImgsM8SL1o"
      }
    },
    {
      "cell_type": "code",
      "source": [
        "ages_over_30 = age_array[age_array > 30]\n",
        "print(\"Ages Greater Than 30:\", ages_over_30)\n",
        "\n",
        "count_over_30 = np.sum(age_array > 30)\n",
        "print(\"Number of Employees Older Than 30:\", count_over_30)"
      ],
      "metadata": {
        "colab": {
          "base_uri": "https://localhost:8080/"
        },
        "id": "Mi5wZk53SUEo",
        "outputId": "fc92f050-0801-4dd5-b932-d75218947c80"
      },
      "execution_count": null,
      "outputs": [
        {
          "output_type": "stream",
          "name": "stdout",
          "text": [
            "Ages Greater Than 30: [56 46 32 38 56 36 40]\n",
            "Number of Employees Older Than 30: 7\n"
          ]
        }
      ]
    },
    {
      "cell_type": "markdown",
      "source": [
        "Q4. Create a new NumPy array that increases every employee’s age by 5 years (without modifying the original array). Print the new updated ages array.\n",
        "## Answer q4 :"
      ],
      "metadata": {
        "id": "wFfH8KDCSkJI"
      }
    },
    {
      "cell_type": "code",
      "source": [
        "new_age_array = age_array + 5\n",
        "\n",
        "print(\"New Ages After 5 Years:\", new_age_array)"
      ],
      "metadata": {
        "colab": {
          "base_uri": "https://localhost:8080/"
        },
        "id": "8xAs5nGoSpcI",
        "outputId": "18166fac-ca9d-4b4c-a547-e61184ce6fc1"
      },
      "execution_count": null,
      "outputs": [
        {
          "output_type": "stream",
          "name": "stdout",
          "text": [
            "New Ages After 5 Years: [61 51 37 30 43 61 41 45 33 33]\n"
          ]
        }
      ]
    },
    {
      "cell_type": "markdown",
      "source": [
        "Q5. Using NumPy, calculate the total salary expense (sum of all salaries) and the difference between the maximum and minimum salary. Print both results.\n",
        "## Answer q5 :"
      ],
      "metadata": {
        "id": "5sPuveECS3T4"
      }
    },
    {
      "cell_type": "code",
      "source": [
        "total_salary_expense = np.sum(salary_array)\n",
        "print(\"Total Salary Expense:\", total_salary_expense)\n",
        "\n",
        "salary_difference = np.max(salary_array) - np.min(salary_array)\n",
        "print(\"Difference Between Highest and Lowest Salary:\", salary_difference)"
      ],
      "metadata": {
        "colab": {
          "base_uri": "https://localhost:8080/"
        },
        "id": "p-sEC5UdS8y4",
        "outputId": "67f718ec-fdda-4d11-dd33-96b06c6f9ff1"
      },
      "execution_count": null,
      "outputs": [
        {
          "output_type": "stream",
          "name": "stdout",
          "text": [
            "Total Salary Expense: 574469\n",
            "Difference Between Highest and Lowest Salary: 58966\n"
          ]
        }
      ]
    },
    {
      "cell_type": "code",
      "source": [],
      "metadata": {
        "id": "ZZp2vKsoTbBV"
      },
      "execution_count": null,
      "outputs": []
    },
    {
      "cell_type": "markdown",
      "source": [
        "# **# 2) Pandas — 5 Questions**"
      ],
      "metadata": {
        "id": "i2SIFdFOTk0g"
      }
    },
    {
      "cell_type": "markdown",
      "source": [
        "Q6. Load the employees.csv file into a Pandas DataFrame. Display the first 5 rows, and check basic info using info() and summary statistics using describe().\n",
        "## Answer q6 :"
      ],
      "metadata": {
        "id": "Bu80cvWhVy8Z"
      }
    },
    {
      "cell_type": "code",
      "source": [
        "data = pd.read_csv(\"employees.csv\")\n",
        "\n",
        "print(data.head())\n",
        "print(data.info())\n",
        "print(data.describe())"
      ],
      "metadata": {
        "colab": {
          "base_uri": "https://localhost:8080/"
        },
        "id": "M26x1vJGTsNh",
        "outputId": "a171e76c-7fdf-4ea4-e100-d0c0c6129d4e"
      },
      "execution_count": null,
      "outputs": [
        {
          "output_type": "stream",
          "name": "stdout",
          "text": [
            "   id  age  salary     dept\n",
            "0   1   56   77191       HR\n",
            "1   2   46   74131       IT\n",
            "2   3   32   46023  Finance\n",
            "3   4   25   71090       IT\n",
            "4   5   38   31685       HR\n",
            "<class 'pandas.core.frame.DataFrame'>\n",
            "RangeIndex: 10 entries, 0 to 9\n",
            "Data columns (total 4 columns):\n",
            " #   Column  Non-Null Count  Dtype \n",
            "---  ------  --------------  ----- \n",
            " 0   id      10 non-null     int64 \n",
            " 1   age     10 non-null     int64 \n",
            " 2   salary  10 non-null     int64 \n",
            " 3   dept    10 non-null     object\n",
            "dtypes: int64(3), object(1)\n",
            "memory usage: 452.0+ bytes\n",
            "None\n",
            "             id       age        salary\n",
            "count  10.00000  10.00000     10.000000\n",
            "mean    5.50000  38.50000  57446.900000\n",
            "std     3.02765  11.16791  24357.262884\n",
            "min     1.00000  25.00000  30769.000000\n",
            "25%     3.25000  29.00000  33152.500000\n",
            "50%     5.50000  37.00000  58556.500000\n",
            "75%     7.75000  44.50000  76426.000000\n",
            "max    10.00000  56.00000  89735.000000\n"
          ]
        }
      ]
    },
    {
      "cell_type": "markdown",
      "source": [
        "Q7. Display only the id, age, and salary columns. Then show the last 3 rows using tail().\n",
        "## Answer q7 :"
      ],
      "metadata": {
        "id": "HD_ntIpOWibp"
      }
    },
    {
      "cell_type": "code",
      "source": [
        "\n",
        "print(\"ID, Age, and Salary Columns:\")\n",
        "print(data[[\"id\", \"age\", \"salary\"]])\n",
        "print(\"\\nLast 3 Rows:\")\n",
        "print(data.tail(3))"
      ],
      "metadata": {
        "colab": {
          "base_uri": "https://localhost:8080/"
        },
        "id": "ohj104ZCUs6B",
        "outputId": "f99c09b1-49d3-4d65-8902-bf44d760d40c"
      },
      "execution_count": null,
      "outputs": [
        {
          "output_type": "stream",
          "name": "stdout",
          "text": [
            "ID, Age, and Salary Columns:\n",
            "   id  age  salary\n",
            "0   1   56   77191\n",
            "1   2   46   74131\n",
            "2   3   32   46023\n",
            "3   4   25   71090\n",
            "4   5   38   31685\n",
            "5   6   56   30769\n",
            "6   7   36   89735\n",
            "7   8   40   86101\n",
            "8   9   28   32433\n",
            "9  10   28   35311\n",
            "\n",
            "Last 3 Rows:\n",
            "   id  age  salary   dept\n",
            "7   8   40   86101     IT\n",
            "8   9   28   32433  Sales\n",
            "9  10   28   35311     HR\n"
          ]
        }
      ]
    },
    {
      "cell_type": "markdown",
      "source": [
        "Q8. Filter the DataFrame to show only employees who work in the IT department. Print the result and show the total number of IT employees.\n",
        "## Answer q8 :"
      ],
      "metadata": {
        "id": "JL--l0PDWmzJ"
      }
    },
    {
      "cell_type": "code",
      "source": [
        "it_employees = data[data[\"dept\"] == \"IT\"]\n",
        "\n",
        "print(\"Employees in IT Department:\")\n",
        "print(it_employees)\n",
        "print(\"\\nTotal Number of IT Employees:\", len(it_employees))"
      ],
      "metadata": {
        "colab": {
          "base_uri": "https://localhost:8080/"
        },
        "id": "rjuJQOfUUzD5",
        "outputId": "c84e183f-9742-401d-a5ed-782cbcf9fc76"
      },
      "execution_count": null,
      "outputs": [
        {
          "output_type": "stream",
          "name": "stdout",
          "text": [
            "Employees in IT Department:\n",
            "   id  age  salary dept\n",
            "1   2   46   74131   IT\n",
            "3   4   25   71090   IT\n",
            "7   8   40   86101   IT\n",
            "\n",
            "Total Number of IT Employees: 3\n"
          ]
        }
      ]
    },
    {
      "cell_type": "markdown",
      "source": [
        "Q9. Sort the DataFrame by salary in descending order and display the top 3 highest-paid employees along with their department and age.\n",
        "## Answer q9 :"
      ],
      "metadata": {
        "id": "QswcU3pVWqG5"
      }
    },
    {
      "cell_type": "code",
      "source": [
        "sorted_data = data.sort_values(by=\"salary\", ascending=False)\n",
        "top_3 = sorted_data[[\"id\", \"dept\", \"age\", \"salary\"]].head(3)\n",
        "\n",
        "print(\"Top 3 Highest-Paid Employees:\")\n",
        "print(top_3)\n"
      ],
      "metadata": {
        "colab": {
          "base_uri": "https://localhost:8080/"
        },
        "id": "aqxrX-0EU55h",
        "outputId": "671fb14e-2b4a-4e40-a101-04c725801d31"
      },
      "execution_count": null,
      "outputs": [
        {
          "output_type": "stream",
          "name": "stdout",
          "text": [
            "Top 3 Highest-Paid Employees:\n",
            "   id     dept  age  salary\n",
            "6   7  Finance   36   89735\n",
            "7   8       IT   40   86101\n",
            "0   1       HR   56   77191\n"
          ]
        }
      ]
    },
    {
      "cell_type": "markdown",
      "source": [
        "Q10. Replace all salary values greater than 80000 with 80000 using loc. Then calculate and print the new average salary of all employees after replacement.\n",
        "## Answer q10 :"
      ],
      "metadata": {
        "id": "ZyBwZkzqWs_B"
      }
    },
    {
      "cell_type": "code",
      "source": [
        "\n",
        "data.loc[data[\"salary\"] > 80000, \"salary\"] = 80000\n",
        "new_average_salary = data[\"salary\"].mean()\n",
        "\n",
        "print(\"New Average Salary:\", new_average_salary)\n"
      ],
      "metadata": {
        "colab": {
          "base_uri": "https://localhost:8080/"
        },
        "id": "lBkNshdJU-hx",
        "outputId": "f95a6044-11de-4299-f825-cee392312656"
      },
      "execution_count": null,
      "outputs": [
        {
          "output_type": "stream",
          "name": "stdout",
          "text": [
            "New Average Salary: 55863.3\n"
          ]
        }
      ]
    }
  ]
}